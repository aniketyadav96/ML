{
  "nbformat": 4,
  "nbformat_minor": 0,
  "metadata": {
    "colab": {
      "provenance": []
    },
    "kernelspec": {
      "name": "python3",
      "display_name": "Python 3"
    },
    "language_info": {
      "name": "python"
    }
  },
  "cells": [
    {
      "cell_type": "markdown",
      "source": [
        "**Addition of two numbers** "
      ],
      "metadata": {
        "id": "txbd4qWtajXf"
      }
    },
    {
      "cell_type": "code",
      "execution_count": 3,
      "metadata": {
        "id": "g-v-1eM6Xxjq",
        "colab": {
          "base_uri": "https://localhost:8080/"
        },
        "outputId": "460d0aee-8a84-40e5-dcbb-af5366877fe8"
      },
      "outputs": [
        {
          "output_type": "stream",
          "name": "stdout",
          "text": [
            "40\n"
          ]
        }
      ],
      "source": [
        "a=10\n",
        "b=30\n",
        "print(a+b)"
      ]
    }
  ]
}